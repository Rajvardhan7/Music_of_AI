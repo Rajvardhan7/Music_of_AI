{
  "nbformat": 4,
  "nbformat_minor": 0,
  "metadata": {
    "colab": {
      "name": "music.ipynb",
      "provenance": []
    },
    "kernelspec": {
      "name": "python3",
      "display_name": "Python 3"
    },
    "accelerator": "GPU"
  },
  "cells": [
    {
      "cell_type": "markdown",
      "metadata": {
        "id": "7PB9NNKQ6lTG",
        "colab_type": "text"
      },
      "source": [
        "Music Creation using LSTM"
      ]
    },
    {
      "cell_type": "markdown",
      "metadata": {
        "id": "z-MfYZWk4mwq",
        "colab_type": "text"
      },
      "source": [
        "**Installing Libraries**\n",
        "\n",
        "h5py will be required later while training the model in order to store trained model weights after every epoch"
      ]
    },
    {
      "cell_type": "code",
      "metadata": {
        "id": "R-bP5uO6yO_R",
        "colab_type": "code",
        "colab": {}
      },
      "source": [
        "# h5py will be required later while training the model in\n",
        "pip install h5py"
      ],
      "execution_count": 0,
      "outputs": []
    },
    {
      "cell_type": "code",
      "metadata": {
        "id": "K0Bp792uYM_u",
        "colab_type": "code",
        "colab": {}
      },
      "source": [
        "# Importing required classes\n",
        "from pydub import AudioSegment\n",
        "import os\n",
        "import glob\n",
        "import numpy as np\n",
        "from music21 import converter, instrument, note, chord\n",
        "\n",
        "# importing Keras libraries\n",
        "from keras.models import Sequential\n",
        "from keras.layers import Dense\n",
        "from keras.layers import Dropout\n",
        "from keras.layers import LSTM\n",
        "from keras.layers import Activation\n",
        "from keras.layers import BatchNormalization as BatchNorm\n",
        "from keras.utils import np_utils\n",
        "from keras.callbacks import ModelCheckpoint"
      ],
      "execution_count": 0,
      "outputs": []
    },
    {
      "cell_type": "markdown",
      "metadata": {
        "id": "YXrRO5DU68Nu",
        "colab_type": "text"
      },
      "source": [
        "The dataset is uploaded from the system into the midi_songs directory. This directory contains 92 .mid extension files."
      ]
    },
    {
      "cell_type": "code",
      "metadata": {
        "id": "IJR7E9taYe0E",
        "colab_type": "code",
        "colab": {}
      },
      "source": [
        "#os.mkdir('midi_songs')\n",
        "#%cd ../\n",
        "os.getcwd()"
      ],
      "execution_count": 0,
      "outputs": []
    },
    {
      "cell_type": "code",
      "metadata": {
        "id": "gbAfOllKd5a8",
        "colab_type": "code",
        "colab": {}
      },
      "source": [
        "# Making Notes list of all notes and chords using file path\n",
        "notes = []\n",
        "\n",
        "for file in glob.glob(\"midi_songs/*.mid\"):\n",
        "    midi = converter.parse(file)\n",
        "    notes_to_parse = None\n",
        "\n",
        "    parts = instrument.partitionByInstrument(midi)\n",
        "\n",
        "    if parts: # file has instrument parts\n",
        "        notes_to_parse = parts.parts[0].recurse()\n",
        "    else: # file has notes in a flat structure\n",
        "        notes_to_parse = midi.flat.notes\n",
        "\n",
        "    for element in notes_to_parse:\n",
        "        if isinstance(element, note.Note):\n",
        "            notes.append(str(element.pitch))\n",
        "        elif isinstance(element, chord.Chord):\n",
        "            notes.append('.'.join(str(n) for n in element.normalOrder))  \n",
        "\n",
        "len(notes)              "
      ],
      "execution_count": 0,
      "outputs": []
    },
    {
      "cell_type": "code",
      "metadata": {
        "id": "Jo-dzKSsk6Xa",
        "colab_type": "code",
        "colab": {}
      },
      "source": [
        "seq_length = 100\n",
        "# sorting all notes and chords pitches\n",
        "pitch_names = sorted(set(item for item in notes))\n",
        "\n",
        "# total unique notes/combination_of_notes in the dataset\n",
        "len(pitch_names)\n",
        "\n",
        "# Creating note_to_int dictionary\n",
        "note_to_indx = dict((note,i) for i,note in enumerate(pitch_names))"
      ],
      "execution_count": 0,
      "outputs": []
    },
    {
      "cell_type": "code",
      "metadata": {
        "id": "9UAxLhebM0MH",
        "colab_type": "code",
        "colab": {}
      },
      "source": [
        "# Creating inputs and corresponding outputs for LSTM model\n",
        "input_seq = []\n",
        "output_seq = []\n",
        "\n",
        "for i in range(0,len(notes)-seq_length,1):\n",
        "  seq_in = notes[i:i+seq_length]\n",
        "  seq_out = notes[i+seq_length]\n",
        "  input_seq.append([note_to_indx[key] for key in seq_in])\n",
        "  output_seq.append(note_to_indx[seq_out])"
      ],
      "execution_count": 0,
      "outputs": []
    },
    {
      "cell_type": "code",
      "metadata": {
        "id": "ynOhT7z0RHi6",
        "colab_type": "code",
        "colab": {}
      },
      "source": [
        "n_patterns = len(input_seq)\n",
        "# reshape the input into a format compatible with LSTM layers\n",
        "input_seq = np.reshape(input_seq, (n_patterns, seq_length, 1))\n",
        "input_seq = input_seq/len(pitch_names)\n",
        "output_seq = np_utils.to_categorical(output_seq)\n",
        "input_seq.shape"
      ],
      "execution_count": 0,
      "outputs": []
    },
    {
      "cell_type": "markdown",
      "metadata": {
        "id": "Fkj0l_Cb7pLO",
        "colab_type": "text"
      },
      "source": [
        "Defining the model using keras Sequential class. After which it is trained and the weights are saved."
      ]
    },
    {
      "cell_type": "code",
      "metadata": {
        "id": "HVETaRwTqNeW",
        "colab_type": "code",
        "colab": {}
      },
      "source": [
        "model = Sequential()\n",
        "\n",
        "model.add(LSTM(256,input_shape=(input_seq.shape[1],input_seq.shape[2]),return_sequences=True))\n",
        "model.add(Dropout(0.13))\n",
        "model.add(LSTM(512))\n",
        "model.add(Dense(256))\n",
        "model.add(Dropout(0.3))\n",
        "model.add(Dense(len(pitch_names)))\n",
        "model.add(Activation('softmax'))\n",
        "\n",
        "model.compile(loss='categorical_crossentropy', optimizer='rmsprop')\n",
        "\n",
        "filepath = \"weights-improvement-{epoch:02d}-{loss:.4f}-bigger.hdf5\"    \n",
        "checkpoint = ModelCheckpoint(\n",
        "    filepath, monitor='loss', \n",
        "    verbose=0,        \n",
        "    save_best_only=True,        \n",
        "    mode='min'\n",
        ")    \n",
        "callbacks_list = [checkpoint]     \n",
        "model.fit(input_seq, output_seq, epochs=40, batch_size=100, callbacks=callbacks_list)"
      ],
      "execution_count": 0,
      "outputs": []
    },
    {
      "cell_type": "markdown",
      "metadata": {
        "id": "Qk86fiVI8ETs",
        "colab_type": "text"
      },
      "source": [
        "Building another structure but htis time instead of training loading it with weights obtained during traing "
      ]
    },
    {
      "cell_type": "code",
      "metadata": {
        "id": "o1nBXSORy_ay",
        "colab_type": "code",
        "colab": {}
      },
      "source": [
        "model = Sequential()\n",
        "model.add(LSTM(\n",
        "    256,\n",
        "    input_shape=(input_seq.shape[1], input_seq.shape[2]),\n",
        "    return_sequences=True\n",
        "))\n",
        "model.add(Dropout(0.3))\n",
        "model.add(LSTM(512))\n",
        "model.add(Dense(256))\n",
        "model.add(Dropout(0.3))\n",
        "model.add(Dense(358))\n",
        "model.add(Activation('softmax'))\n",
        "model.compile(loss='categorical_crossentropy', optimizer='rmsprop')\n",
        "\n",
        "# Load the weights to each node\n",
        "model.load_weights('/content/weights-improvement-40-0.5465-bigger.hdf5')"
      ],
      "execution_count": 0,
      "outputs": []
    },
    {
      "cell_type": "markdown",
      "metadata": {
        "id": "UBdAz6yU8SvJ",
        "colab_type": "text"
      },
      "source": [
        "Making predictions"
      ]
    },
    {
      "cell_type": "code",
      "metadata": {
        "id": "KpOokPeMXus2",
        "colab_type": "code",
        "colab": {}
      },
      "source": [
        "# prediction\n",
        "start = np.random.randint(0, len(input_seq)-1)\n",
        "int_to_note = dict((number, note) for number, note in enumerate(pitch_names))\n",
        "pattern = input_seq[start]\n",
        "prediction_output = []\n",
        "pattern = np.array(pattern)\n",
        "\n",
        "# generate 500 notes\n",
        "for note_index in range(500):\n",
        "        prediction_input = np.reshape(pattern, (1, len(pattern), 1))\n",
        "        prediction_input = prediction_input / float(len(pitch_names))\n",
        "\n",
        "        prediction = model.predict(prediction_input, verbose=0)\n",
        "        prediction = np.reshape(prediction,(358,1))\n",
        "        index = np.argmax(prediction)\n",
        "        result = int_to_note[index]\n",
        "        #making index size as that of pattern to concat.\n",
        "        index = [[index]]\n",
        "        prediction_output.append(result)\n",
        "        pattern = np.concatenate((pattern,index))\n",
        "        pattern = pattern[1:len(pattern)+1]\n",
        "        # see predicted sequence of notes\n",
        "        print(result)"
      ],
      "execution_count": 0,
      "outputs": []
    },
    {
      "cell_type": "markdown",
      "metadata": {
        "id": "RI8joG-h8YVa",
        "colab_type": "text"
      },
      "source": [
        "obtaining notes"
      ]
    },
    {
      "cell_type": "code",
      "metadata": {
        "id": "oilpcUNSZFHo",
        "colab_type": "code",
        "colab": {}
      },
      "source": [
        "offset = 0\n",
        "output_notes = []\n",
        "# create note and chord objects based on the values generated by the model\n",
        "for pattern in prediction_output:\n",
        "    # pattern is a chord\n",
        "    if ('.' in pattern) or pattern.isdigit():\n",
        "        notes_in_chord = pattern.split('.')\n",
        "        notes = []\n",
        "        for current_note in notes_in_chord:\n",
        "            new_note = note.Note(int(current_note))\n",
        "            new_note.storedInstrument = instrument.Piano()\n",
        "            notes.append(new_note)\n",
        "        new_chord = chord.Chord(notes)\n",
        "        new_chord.offset = offset\n",
        "        output_notes.append(new_chord)\n",
        "    # pattern is a note\n",
        "    else:\n",
        "        new_note = note.Note(pattern)\n",
        "        new_note.offset = offset\n",
        "        new_note.storedInstrument = instrument.Piano()\n",
        "        output_notes.append(new_note)\n",
        "    # increase offset each iteration so that notes do not stack\n",
        "    offset += 0.5\n"
      ],
      "execution_count": 0,
      "outputs": []
    },
    {
      "cell_type": "markdown",
      "metadata": {
        "id": "CEn8AqSZ5WxW",
        "colab_type": "text"
      },
      "source": [
        "Creating the MIDI file \n",
        "\n",
        "the file can later be converted to .mp3 format from [here](https://www.zamzar.com/) for listening your predicted music.\n"
      ]
    },
    {
      "cell_type": "code",
      "metadata": {
        "id": "mhOzydN63ICZ",
        "colab_type": "code",
        "colab": {
          "base_uri": "https://localhost:8080/",
          "height": 34
        },
        "outputId": "f657d852-e934-40b6-c01b-ccc9d9985dbc"
      },
      "source": [
        "from music21 import stream\n",
        "midi_stream = stream.Stream(output_notes)\n",
        "midi_stream.write('midi', fp='test_output.mid')"
      ],
      "execution_count": 206,
      "outputs": [
        {
          "output_type": "execute_result",
          "data": {
            "text/plain": [
              "'test_output.mid'"
            ]
          },
          "metadata": {
            "tags": []
          },
          "execution_count": 206
        }
      ]
    }
  ]
}